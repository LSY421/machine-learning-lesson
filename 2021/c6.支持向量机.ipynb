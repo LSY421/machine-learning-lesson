{
 "cells": [
  {
   "cell_type": "code",
   "execution_count": 1,
   "metadata": {
    "collapsed": true
   },
   "outputs": [
    {
     "data": {
      "text/plain": "['LinearSVC',\n 'LinearSVR',\n 'NuSVC',\n 'NuSVR',\n 'OneClassSVM',\n 'SVC',\n 'SVR',\n 'l1_min_c']"
     },
     "execution_count": 1,
     "metadata": {},
     "output_type": "execute_result"
    }
   ],
   "source": [
    "import sklearn\n",
    "import sklearn.svm as svm\n",
    "svm.__all__"
   ]
  },
  {
   "cell_type": "code",
   "execution_count": 2,
   "outputs": [
    {
     "data": {
      "text/plain": "[array([[0.437, 0.211],\n        [0.697, 0.46 ],\n        [0.245, 0.057],\n        [0.343, 0.099],\n        [0.608, 0.318],\n        [0.774, 0.376],\n        [0.481, 0.149],\n        [0.593, 0.042],\n        [0.639, 0.161],\n        [0.634, 0.264],\n        [0.36 , 0.37 ],\n        [0.657, 0.198]]),\n array([[0.556, 0.215],\n        [0.243, 0.267],\n        [0.719, 0.103],\n        [0.666, 0.091],\n        [0.403, 0.237]]),\n array([ 1,  1, -1, -1,  1,  1,  1, -1, -1,  1, -1, -1], dtype=int64),\n array([ 1, -1, -1, -1,  1], dtype=int64)]"
     },
     "execution_count": 2,
     "metadata": {},
     "output_type": "execute_result"
    }
   ],
   "source": [
    "import pandas as pd\n",
    "xigua30a = pd.read_csv(\"xigua3.0.a.csv\")\n",
    "x=xigua30a[['密度','含糖率']].values\n",
    "y=xigua30a[['好瓜']].values.flatten()\n",
    "xy = sklearn.model_selection.train_test_split(x, y, random_state=123)\n",
    "xy"
   ],
   "metadata": {
    "collapsed": false,
    "pycharm": {
     "name": "#%%\n"
    }
   }
  },
  {
   "cell_type": "code",
   "execution_count": 36,
   "outputs": [
    {
     "name": "stdout",
     "output_type": "stream",
     "text": [
      "1.0 1.0\n"
     ]
    }
   ],
   "source": [
    "from sklearn.svm import SVC\n",
    "model = SVC(kernel='rbf',C=1000,random_state=123)\n",
    "model.fit(xy[0],xy[2])\n",
    "print(model.score(xy[0],xy[2]),model.score(xy[1],xy[3]))"
   ],
   "metadata": {
    "collapsed": false,
    "pycharm": {
     "name": "#%%\n"
    }
   }
  },
  {
   "cell_type": "code",
   "execution_count": 23,
   "outputs": [
    {
     "data": {
      "text/plain": "(array([[0.697, 0.46 , 1.   ],\n        [0.774, 0.376, 1.   ],\n        [0.634, 0.264, 1.   ],\n        [0.608, 0.318, 1.   ],\n        [0.556, 0.215, 1.   ],\n        [0.403, 0.237, 1.   ],\n        [0.481, 0.149, 1.   ],\n        [0.437, 0.211, 1.   ]]),\n array([[ 0.666,  0.091, -1.   ],\n        [ 0.243,  0.267, -1.   ],\n        [ 0.245,  0.057, -1.   ],\n        [ 0.343,  0.099, -1.   ],\n        [ 0.639,  0.161, -1.   ],\n        [ 0.657,  0.198, -1.   ],\n        [ 0.36 ,  0.37 , -1.   ],\n        [ 0.593,  0.042, -1.   ],\n        [ 0.719,  0.103, -1.   ]]))"
     },
     "execution_count": 23,
     "metadata": {},
     "output_type": "execute_result"
    }
   ],
   "source": [
    "xigua30apos = xigua30a[xigua30a['好瓜']==1].values\n",
    "xigua30aneg = xigua30a[xigua30a['好瓜']==-1].values\n",
    "xigua30apos,xigua30aneg"
   ],
   "metadata": {
    "collapsed": false,
    "pycharm": {
     "name": "#%%\n"
    }
   }
  },
  {
   "cell_type": "code",
   "execution_count": 25,
   "outputs": [
    {
     "data": {
      "text/plain": "<Figure size 432x288 with 1 Axes>",
      "image/png": "[encoded data removed]"
     },
     "metadata": {
      "needs_background": "light"
     },
     "output_type": "display_data"
    }
   ],
   "source": [
    "import  matplotlib.pyplot as plt\n",
    "plt.scatter(xigua30apos[:,0],xigua30apos[:,1],c='green')\n",
    "plt.scatter(xigua30aneg[:,0],xigua30aneg[:,1],c='blue')\n",
    "plt.show()"
   ],
   "metadata": {
    "collapsed": false,
    "pycharm": {
     "name": "#%%\n"
    }
   }
  },
  {
   "cell_type": "code",
   "execution_count": 37,
   "outputs": [
    {
     "data": {
      "text/plain": "(array([[0.37, 0.2 ],\n        [0.37, 0.21],\n        [0.37, 0.22],\n        ...,\n        [0.93, 0.51],\n        [0.93, 0.52],\n        [0.93, 0.53]]),\n array([[0.  , 0.  ],\n        [0.  , 0.01],\n        [0.  , 0.02],\n        ...,\n        [0.99, 0.97],\n        [0.99, 0.98],\n        [0.99, 0.99]]))"
     },
     "execution_count": 37,
     "metadata": {},
     "output_type": "execute_result"
    }
   ],
   "source": [
    "import numpy as np\n",
    "disp_scale=100.0\n",
    "disp_input=[]\n",
    "for i in range(int(disp_scale)):\n",
    "    for j in range(int(disp_scale)):\n",
    "        disp_input.append([i/disp_scale, j/disp_scale])\n",
    "disp_output = model.predict(disp_input)\n",
    "disp_pos = []\n",
    "disp_neg = []\n",
    "for x, disp_x  in zip(disp_input,disp_output):\n",
    "    if disp_x==1:\n",
    "        disp_pos.append(x)\n",
    "    else:\n",
    "        disp_neg.append(x)\n",
    "disp_pos = np.array(disp_pos)\n",
    "disp_neg = np.array(disp_neg)\n",
    "disp_pos,disp_neg"
   ],
   "metadata": {
    "collapsed": false,
    "pycharm": {
     "name": "#%%\n"
    }
   }
  },
  {
   "cell_type": "code",
   "execution_count": 38,
   "outputs": [
    {
     "data": {
      "text/plain": "<Figure size 432x288 with 1 Axes>",
      "image/png": "[encoded data removed]"
     },
     "metadata": {
      "needs_background": "light"
     },
     "output_type": "display_data"
    }
   ],
   "source": [
    "import  matplotlib.pyplot as plt\n",
    "plt.scatter(disp_pos[:,0],disp_pos[:,1],c='white')\n",
    "plt.scatter(disp_neg[:,0],disp_neg[:,1],c='grey')\n",
    "plt.scatter(xigua30apos[:,0],xigua30apos[:,1],c='green')\n",
    "plt.scatter(xigua30aneg[:,0],xigua30aneg[:,1],c='blue')\n",
    "plt.show()"
   ],
   "metadata": {
    "collapsed": false,
    "pycharm": {
     "name": "#%%\n"
    }
   }
  },
  {
   "cell_type": "code",
   "execution_count": 42,
   "outputs": [
    {
     "ename": "KeyboardInterrupt",
     "evalue": "",
     "output_type": "error",
     "traceback": [
      "\u001B[1;31m---------------------------------------------------------------------------\u001B[0m",
      "\u001B[1;31mKeyboardInterrupt\u001B[0m                         Traceback (most recent call last)",
      "\u001B[1;32m~\\AppData\\Local\\Temp/ipykernel_11968/3516954111.py\u001B[0m in \u001B[0;36m<module>\u001B[1;34m\u001B[0m\n\u001B[0;32m      5\u001B[0m \u001B[0mxy\u001B[0m \u001B[1;33m=\u001B[0m \u001B[0msklearn\u001B[0m\u001B[1;33m.\u001B[0m\u001B[0mmodel_selection\u001B[0m\u001B[1;33m.\u001B[0m\u001B[0mtrain_test_split\u001B[0m\u001B[1;33m(\u001B[0m\u001B[0mboston\u001B[0m\u001B[1;33m.\u001B[0m\u001B[0mdata\u001B[0m\u001B[1;33m,\u001B[0m \u001B[0my_classfiy\u001B[0m\u001B[1;33m,\u001B[0m \u001B[0mrandom_state\u001B[0m\u001B[1;33m=\u001B[0m\u001B[1;36m123\u001B[0m\u001B[1;33m)\u001B[0m\u001B[1;33m\u001B[0m\u001B[1;33m\u001B[0m\u001B[0m\n\u001B[0;32m      6\u001B[0m \u001B[0mmodel\u001B[0m \u001B[1;33m=\u001B[0m \u001B[0mSVC\u001B[0m\u001B[1;33m(\u001B[0m\u001B[0mkernel\u001B[0m\u001B[1;33m=\u001B[0m\u001B[1;34m'rbf'\u001B[0m\u001B[1;33m,\u001B[0m\u001B[0mC\u001B[0m\u001B[1;33m=\u001B[0m\u001B[1;36m10000000000\u001B[0m\u001B[1;33m,\u001B[0m\u001B[0mrandom_state\u001B[0m\u001B[1;33m=\u001B[0m\u001B[1;36m123\u001B[0m\u001B[1;33m)\u001B[0m\u001B[1;33m\u001B[0m\u001B[1;33m\u001B[0m\u001B[0m\n\u001B[1;32m----> 7\u001B[1;33m \u001B[0mmodel\u001B[0m\u001B[1;33m.\u001B[0m\u001B[0mfit\u001B[0m\u001B[1;33m(\u001B[0m\u001B[0mxy\u001B[0m\u001B[1;33m[\u001B[0m\u001B[1;36m0\u001B[0m\u001B[1;33m]\u001B[0m\u001B[1;33m,\u001B[0m\u001B[0mxy\u001B[0m\u001B[1;33m[\u001B[0m\u001B[1;36m2\u001B[0m\u001B[1;33m]\u001B[0m\u001B[1;33m)\u001B[0m\u001B[1;33m\u001B[0m\u001B[1;33m\u001B[0m\u001B[0m\n\u001B[0m\u001B[0;32m      8\u001B[0m \u001B[0mprint\u001B[0m\u001B[1;33m(\u001B[0m\u001B[0mmodel\u001B[0m\u001B[1;33m.\u001B[0m\u001B[0mscore\u001B[0m\u001B[1;33m(\u001B[0m\u001B[0mxy\u001B[0m\u001B[1;33m[\u001B[0m\u001B[1;36m0\u001B[0m\u001B[1;33m]\u001B[0m\u001B[1;33m,\u001B[0m\u001B[0mxy\u001B[0m\u001B[1;33m[\u001B[0m\u001B[1;36m2\u001B[0m\u001B[1;33m]\u001B[0m\u001B[1;33m)\u001B[0m\u001B[1;33m,\u001B[0m\u001B[0mmodel\u001B[0m\u001B[1;33m.\u001B[0m\u001B[0mscore\u001B[0m\u001B[1;33m(\u001B[0m\u001B[0mxy\u001B[0m\u001B[1;33m[\u001B[0m\u001B[1;36m1\u001B[0m\u001B[1;33m]\u001B[0m\u001B[1;33m,\u001B[0m\u001B[0mxy\u001B[0m\u001B[1;33m[\u001B[0m\u001B[1;36m3\u001B[0m\u001B[1;33m]\u001B[0m\u001B[1;33m)\u001B[0m\u001B[1;33m)\u001B[0m\u001B[1;33m\u001B[0m\u001B[1;33m\u001B[0m\u001B[0m\n",
      "\u001B[1;32mC:\\conda\\conda3\\envs\\ml\\lib\\site-packages\\sklearn\\svm\\_base.py\u001B[0m in \u001B[0;36mfit\u001B[1;34m(self, X, y, sample_weight)\u001B[0m\n\u001B[0;32m    224\u001B[0m \u001B[1;33m\u001B[0m\u001B[0m\n\u001B[0;32m    225\u001B[0m         \u001B[0mseed\u001B[0m \u001B[1;33m=\u001B[0m \u001B[0mrnd\u001B[0m\u001B[1;33m.\u001B[0m\u001B[0mrandint\u001B[0m\u001B[1;33m(\u001B[0m\u001B[0mnp\u001B[0m\u001B[1;33m.\u001B[0m\u001B[0miinfo\u001B[0m\u001B[1;33m(\u001B[0m\u001B[1;34m'i'\u001B[0m\u001B[1;33m)\u001B[0m\u001B[1;33m.\u001B[0m\u001B[0mmax\u001B[0m\u001B[1;33m)\u001B[0m\u001B[1;33m\u001B[0m\u001B[1;33m\u001B[0m\u001B[0m\n\u001B[1;32m--> 226\u001B[1;33m         \u001B[0mfit\u001B[0m\u001B[1;33m(\u001B[0m\u001B[0mX\u001B[0m\u001B[1;33m,\u001B[0m \u001B[0my\u001B[0m\u001B[1;33m,\u001B[0m \u001B[0msample_weight\u001B[0m\u001B[1;33m,\u001B[0m \u001B[0msolver_type\u001B[0m\u001B[1;33m,\u001B[0m \u001B[0mkernel\u001B[0m\u001B[1;33m,\u001B[0m \u001B[0mrandom_seed\u001B[0m\u001B[1;33m=\u001B[0m\u001B[0mseed\u001B[0m\u001B[1;33m)\u001B[0m\u001B[1;33m\u001B[0m\u001B[1;33m\u001B[0m\u001B[0m\n\u001B[0m\u001B[0;32m    227\u001B[0m         \u001B[1;31m# see comment on the other call to np.iinfo in this file\u001B[0m\u001B[1;33m\u001B[0m\u001B[1;33m\u001B[0m\u001B[1;33m\u001B[0m\u001B[0m\n\u001B[0;32m    228\u001B[0m \u001B[1;33m\u001B[0m\u001B[0m\n",
      "\u001B[1;32mC:\\conda\\conda3\\envs\\ml\\lib\\site-packages\\sklearn\\svm\\_base.py\u001B[0m in \u001B[0;36m_dense_fit\u001B[1;34m(self, X, y, sample_weight, solver_type, kernel, random_seed)\u001B[0m\n\u001B[0;32m    283\u001B[0m                 \u001B[0mcache_size\u001B[0m\u001B[1;33m=\u001B[0m\u001B[0mself\u001B[0m\u001B[1;33m.\u001B[0m\u001B[0mcache_size\u001B[0m\u001B[1;33m,\u001B[0m \u001B[0mcoef0\u001B[0m\u001B[1;33m=\u001B[0m\u001B[0mself\u001B[0m\u001B[1;33m.\u001B[0m\u001B[0mcoef0\u001B[0m\u001B[1;33m,\u001B[0m\u001B[1;33m\u001B[0m\u001B[1;33m\u001B[0m\u001B[0m\n\u001B[0;32m    284\u001B[0m                 \u001B[0mgamma\u001B[0m\u001B[1;33m=\u001B[0m\u001B[0mself\u001B[0m\u001B[1;33m.\u001B[0m\u001B[0m_gamma\u001B[0m\u001B[1;33m,\u001B[0m \u001B[0mepsilon\u001B[0m\u001B[1;33m=\u001B[0m\u001B[0mself\u001B[0m\u001B[1;33m.\u001B[0m\u001B[0mepsilon\u001B[0m\u001B[1;33m,\u001B[0m\u001B[1;33m\u001B[0m\u001B[1;33m\u001B[0m\u001B[0m\n\u001B[1;32m--> 285\u001B[1;33m                 max_iter=self.max_iter, random_seed=random_seed)\n\u001B[0m\u001B[0;32m    286\u001B[0m \u001B[1;33m\u001B[0m\u001B[0m\n\u001B[0;32m    287\u001B[0m         \u001B[0mself\u001B[0m\u001B[1;33m.\u001B[0m\u001B[0m_warn_from_fit_status\u001B[0m\u001B[1;33m(\u001B[0m\u001B[1;33m)\u001B[0m\u001B[1;33m\u001B[0m\u001B[1;33m\u001B[0m\u001B[0m\n",
      "\u001B[1;31mKeyboardInterrupt\u001B[0m: "
     ]
    }
   ],
   "source": [
    "import  sklearn.datasets as datasets\n",
    "boston = datasets.load_boston()\n",
    "threshold = np.mean(boston.target)\n",
    "y_classfiy=  [1 if yi > threshold else -1 for yi in boston.target]\n",
    "xy = sklearn.model_selection.train_test_split(boston.data, y_classfiy, random_state=123)\n",
    "model = SVC(kernel='rbf',C=10000000000,random_state=123)\n",
    "model.fit(xy[0],xy[2])\n",
    "print(model.score(xy[0],xy[2]),model.score(xy[1],xy[3]))"
   ],
   "metadata": {
    "collapsed": false,
    "pycharm": {
     "name": "#%%\n"
    }
   }
  }
 ],
 "metadata": {
  "kernelspec": {
   "display_name": "Python 3",
   "language": "python",
   "name": "python3"
  },
  "language_info": {
   "codemirror_mode": {
    "name": "ipython",
    "version": 2
   },
   "file_extension": ".py",
   "mimetype": "text/x-python",
   "name": "python",
   "nbconvert_exporter": "python",
   "pygments_lexer": "ipython2",
   "version": "2.7.6"
  }
 },
 "nbformat": 4,
 "nbformat_minor": 0
}