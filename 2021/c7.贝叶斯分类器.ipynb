{
 "cells": [
  {
   "cell_type": "code",
   "execution_count": 13,
   "metadata": {
    "collapsed": true,
    "pycharm": {
     "name": "#%%\n"
    }
   },
   "outputs": [
    {
     "data": {
      "text/plain": "['BernoulliNB', 'GaussianNB', 'MultinomialNB', 'ComplementNB', 'CategoricalNB']"
     },
     "execution_count": 13,
     "metadata": {},
     "output_type": "execute_result"
    }
   ],
   "source": [
    "import sklearn\n",
    "import sklearn.naive_bayes as naive_bayes\n",
    "naive_bayes.__all__"
   ]
  },
  {
   "cell_type": "code",
   "execution_count": 14,
   "outputs": [
    {
     "data": {
      "text/plain": "(array([[0.697, 0.46 ],\n        [0.774, 0.376],\n        [0.634, 0.264],\n        [0.608, 0.318],\n        [0.556, 0.215],\n        [0.403, 0.237],\n        [0.481, 0.149],\n        [0.437, 0.211],\n        [0.666, 0.091],\n        [0.243, 0.267],\n        [0.245, 0.057],\n        [0.343, 0.099],\n        [0.639, 0.161],\n        [0.657, 0.198],\n        [0.36 , 0.37 ],\n        [0.593, 0.042],\n        [0.719, 0.103]]),\n array([ 1,  1,  1,  1,  1,  1,  1,  1,  1, -1, -1, -1, -1, -1, -1, -1, -1],\n       dtype=int64))"
     },
     "execution_count": 14,
     "metadata": {},
     "output_type": "execute_result"
    }
   ],
   "source": [
    "import pandas as pd\n",
    "xigua30 = pd.read_csv('xigua3.0.a.csv', index_col=0)\n",
    "x=xigua30[[\"密度\",\"含糖率\"]].values\n",
    "y=xigua30[[\"好瓜\"]].values.flatten()\n",
    "xy = sklearn.model_selection.train_test_split(x,y,random_state=123)\n",
    "x,y"
   ],
   "metadata": {
    "collapsed": false,
    "pycharm": {
     "name": "#%%\n"
    }
   }
  },
  {
   "cell_type": "code",
   "execution_count": 15,
   "outputs": [
    {
     "name": "stdout",
     "output_type": "stream",
     "text": [
      "0.5 0.4\n"
     ]
    }
   ],
   "source": [
    "model = naive_bayes.CategoricalNB()\n",
    "model.fit(xy[0],xy[2])\n",
    "print(model.score(xy[0],xy[2]),model.score(xy[1],xy[3]))\n"
   ],
   "metadata": {
    "collapsed": false,
    "pycharm": {
     "name": "#%%\n"
    }
   }
  },
  {
   "cell_type": "code",
   "execution_count": 16,
   "outputs": [
    {
     "name": "stdout",
     "output_type": "stream",
     "text": [
      "0.5 0.4\n"
     ]
    }
   ],
   "source": [
    "model = naive_bayes.ComplementNB()\n",
    "model.fit(xy[0],xy[2])\n",
    "print(model.score(xy[0],xy[2]),model.score(xy[1],xy[3]))"
   ],
   "metadata": {
    "collapsed": false,
    "pycharm": {
     "name": "#%%\n"
    }
   }
  },
  {
   "cell_type": "code",
   "execution_count": 17,
   "outputs": [
    {
     "name": "stdout",
     "output_type": "stream",
     "text": [
      "0.5 0.4\n"
     ]
    }
   ],
   "source": [
    "model = naive_bayes.MultinomialNB()\n",
    "model.fit(xy[0],xy[2])\n",
    "print(model.score(xy[0],xy[2]),model.score(xy[1],xy[3]))"
   ],
   "metadata": {
    "collapsed": false,
    "pycharm": {
     "name": "#%%\n"
    }
   }
  },
  {
   "cell_type": "code",
   "execution_count": 18,
   "outputs": [
    {
     "name": "stdout",
     "output_type": "stream",
     "text": [
      "0.5833333333333334 0.6\n"
     ]
    }
   ],
   "source": [
    "model = naive_bayes.GaussianNB()\n",
    "model.fit(xy[0],xy[2])\n",
    "print(model.score(xy[0],xy[2]),model.score(xy[1],xy[3]))\n"
   ],
   "metadata": {
    "collapsed": false,
    "pycharm": {
     "name": "#%%\n"
    }
   }
  },
  {
   "cell_type": "code",
   "execution_count": 19,
   "outputs": [
    {
     "name": "stdout",
     "output_type": "stream",
     "text": [
      "0.5 0.4\n"
     ]
    }
   ],
   "source": [
    "model = naive_bayes.BernoulliNB()\n",
    "model.fit(xy[0],xy[2])\n",
    "print(model.score(xy[0],xy[2]),model.score(xy[1],xy[3]))"
   ],
   "metadata": {
    "collapsed": false,
    "pycharm": {
     "name": "#%%\n"
    }
   }
  }
 ],
 "metadata": {
  "kernelspec": {
   "display_name": "Python 3",
   "language": "python",
   "name": "python3"
  },
  "language_info": {
   "codemirror_mode": {
    "name": "ipython",
    "version": 2
   },
   "file_extension": ".py",
   "mimetype": "text/x-python",
   "name": "python",
   "nbconvert_exporter": "python",
   "pygments_lexer": "ipython2",
   "version": "2.7.6"
  }
 },
 "nbformat": 4,
 "nbformat_minor": 0
}