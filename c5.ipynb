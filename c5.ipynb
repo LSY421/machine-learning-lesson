{
 "cells": [
  {
   "cell_type": "code",
   "execution_count": 1,
   "metadata": {
    "collapsed": true
   },
   "outputs": [
    {
     "data": {
      "text/plain": "['BernoulliRBM', 'MLPClassifier', 'MLPRegressor']"
     },
     "execution_count": 1,
     "metadata": {},
     "output_type": "execute_result"
    }
   ],
   "source": [
    "import sklearn\n",
    "import sklearn.neural_network as neural_network\n",
    "neural_network.__all__"
   ]
  },
  {
   "cell_type": "code",
   "execution_count": 2,
   "outputs": [
    {
     "data": {
      "text/plain": "    色泽  根蒂  敲声  纹理  脐部  触感    密度   含糖率  好瓜\n编号                                        \n1    1   1   1   1   1   1   1.0   1.0   1\n2    2   1   2   1   1   1   2.0   2.0   1\n3    2   1   1   1   1   1   3.0   3.0   1\n4    1   1   2   1   1   1   4.0   4.0   1\n5    3   1   1   1   1   1   5.0   5.0   1\n6    1   2   1   1   2   2   6.0   6.0   1\n7    2   2   1   2   2   2   7.0   7.0   1\n8    2   2   1   1   2   1   8.0   8.0   1\n9    2   2   2   2   2   1   9.0   9.0   2\n10   1   3   3   1   3   2  10.0  10.0   2\n11   3   3   3   3   3   1  11.0  11.0   2\n12   3   1   1   3   3   2  12.0  12.0   2\n13   1   2   1   2   1   1  13.0  13.0   2\n14   3   2   2   2   1   1  14.0  14.0   2\n15   2   2   1   1   2   2  15.0  15.0   2\n16   3   1   1   3   3   1  16.0  16.0   2\n17   1   1   2   2   2   1  17.0  17.0   2",
      "text/html": "<div>\n<style scoped>\n    .dataframe tbody tr th:only-of-type {\n        vertical-align: middle;\n    }\n\n    .dataframe tbody tr th {\n        vertical-align: top;\n    }\n\n    .dataframe thead th {\n        text-align: right;\n    }\n</style>\n<table border=\"1\" class=\"dataframe\">\n  <thead>\n    <tr style=\"text-align: right;\">\n      <th></th>\n      <th>色泽</th>\n      <th>根蒂</th>\n      <th>敲声</th>\n      <th>纹理</th>\n      <th>脐部</th>\n      <th>触感</th>\n      <th>密度</th>\n      <th>含糖率</th>\n      <th>好瓜</th>\n    </tr>\n    <tr>\n      <th>编号</th>\n      <th></th>\n      <th></th>\n      <th></th>\n      <th></th>\n      <th></th>\n      <th></th>\n      <th></th>\n      <th></th>\n      <th></th>\n    </tr>\n  </thead>\n  <tbody>\n    <tr>\n      <th>1</th>\n      <td>1</td>\n      <td>1</td>\n      <td>1</td>\n      <td>1</td>\n      <td>1</td>\n      <td>1</td>\n      <td>1.0</td>\n      <td>1.0</td>\n      <td>1</td>\n    </tr>\n    <tr>\n      <th>2</th>\n      <td>2</td>\n      <td>1</td>\n      <td>2</td>\n      <td>1</td>\n      <td>1</td>\n      <td>1</td>\n      <td>2.0</td>\n      <td>2.0</td>\n      <td>1</td>\n    </tr>\n    <tr>\n      <th>3</th>\n      <td>2</td>\n      <td>1</td>\n      <td>1</td>\n      <td>1</td>\n      <td>1</td>\n      <td>1</td>\n      <td>3.0</td>\n      <td>3.0</td>\n      <td>1</td>\n    </tr>\n    <tr>\n      <th>4</th>\n      <td>1</td>\n      <td>1</td>\n      <td>2</td>\n      <td>1</td>\n      <td>1</td>\n      <td>1</td>\n      <td>4.0</td>\n      <td>4.0</td>\n      <td>1</td>\n    </tr>\n    <tr>\n      <th>5</th>\n      <td>3</td>\n      <td>1</td>\n      <td>1</td>\n      <td>1</td>\n      <td>1</td>\n      <td>1</td>\n      <td>5.0</td>\n      <td>5.0</td>\n      <td>1</td>\n    </tr>\n    <tr>\n      <th>6</th>\n      <td>1</td>\n      <td>2</td>\n      <td>1</td>\n      <td>1</td>\n      <td>2</td>\n      <td>2</td>\n      <td>6.0</td>\n      <td>6.0</td>\n      <td>1</td>\n    </tr>\n    <tr>\n      <th>7</th>\n      <td>2</td>\n      <td>2</td>\n      <td>1</td>\n      <td>2</td>\n      <td>2</td>\n      <td>2</td>\n      <td>7.0</td>\n      <td>7.0</td>\n      <td>1</td>\n    </tr>\n    <tr>\n      <th>8</th>\n      <td>2</td>\n      <td>2</td>\n      <td>1</td>\n      <td>1</td>\n      <td>2</td>\n      <td>1</td>\n      <td>8.0</td>\n      <td>8.0</td>\n      <td>1</td>\n    </tr>\n    <tr>\n      <th>9</th>\n      <td>2</td>\n      <td>2</td>\n      <td>2</td>\n      <td>2</td>\n      <td>2</td>\n      <td>1</td>\n      <td>9.0</td>\n      <td>9.0</td>\n      <td>2</td>\n    </tr>\n    <tr>\n      <th>10</th>\n      <td>1</td>\n      <td>3</td>\n      <td>3</td>\n      <td>1</td>\n      <td>3</td>\n      <td>2</td>\n      <td>10.0</td>\n      <td>10.0</td>\n      <td>2</td>\n    </tr>\n    <tr>\n      <th>11</th>\n      <td>3</td>\n      <td>3</td>\n      <td>3</td>\n      <td>3</td>\n      <td>3</td>\n      <td>1</td>\n      <td>11.0</td>\n      <td>11.0</td>\n      <td>2</td>\n    </tr>\n    <tr>\n      <th>12</th>\n      <td>3</td>\n      <td>1</td>\n      <td>1</td>\n      <td>3</td>\n      <td>3</td>\n      <td>2</td>\n      <td>12.0</td>\n      <td>12.0</td>\n      <td>2</td>\n    </tr>\n    <tr>\n      <th>13</th>\n      <td>1</td>\n      <td>2</td>\n      <td>1</td>\n      <td>2</td>\n      <td>1</td>\n      <td>1</td>\n      <td>13.0</td>\n      <td>13.0</td>\n      <td>2</td>\n    </tr>\n    <tr>\n      <th>14</th>\n      <td>3</td>\n      <td>2</td>\n      <td>2</td>\n      <td>2</td>\n      <td>1</td>\n      <td>1</td>\n      <td>14.0</td>\n      <td>14.0</td>\n      <td>2</td>\n    </tr>\n    <tr>\n      <th>15</th>\n      <td>2</td>\n      <td>2</td>\n      <td>1</td>\n      <td>1</td>\n      <td>2</td>\n      <td>2</td>\n      <td>15.0</td>\n      <td>15.0</td>\n      <td>2</td>\n    </tr>\n    <tr>\n      <th>16</th>\n      <td>3</td>\n      <td>1</td>\n      <td>1</td>\n      <td>3</td>\n      <td>3</td>\n      <td>1</td>\n      <td>16.0</td>\n      <td>16.0</td>\n      <td>2</td>\n    </tr>\n    <tr>\n      <th>17</th>\n      <td>1</td>\n      <td>1</td>\n      <td>2</td>\n      <td>2</td>\n      <td>2</td>\n      <td>1</td>\n      <td>17.0</td>\n      <td>17.0</td>\n      <td>2</td>\n    </tr>\n  </tbody>\n</table>\n</div>"
     },
     "execution_count": 2,
     "metadata": {},
     "output_type": "execute_result"
    }
   ],
   "source": [
    "import  pandas as pd\n",
    "xigua30 = pd.read_csv(\"xigua3.0.csv\",index_col=0)\n",
    "xigua30num =xigua30.copy()\n",
    "for index,row in xigua30.iteritems():\n",
    "    row_set = row.unique()\n",
    "    #print(row_set)\n",
    "    row_dict = dict(zip(row_set,range(1, len(row_set)+1)))\n",
    "    #print(row_dict)\n",
    "    xigua30num[index] = row.replace(row_dict)\n",
    "xigua30num"
   ],
   "metadata": {
    "collapsed": false,
    "pycharm": {
     "name": "#%%\n"
    }
   }
  },
  {
   "cell_type": "code",
   "execution_count": 5,
   "outputs": [
    {
     "data": {
      "text/plain": "[array([[ 7.,  7.],\n        [11., 11.],\n        [10., 10.],\n        [ 8.,  8.],\n        [13., 13.],\n        [ 4.,  4.],\n        [ 2.,  2.],\n        [ 9.,  9.],\n        [17., 17.],\n        [15., 15.],\n        [14., 14.],\n        [ 1.,  1.]]),\n array([[ 6.,  6.],\n        [12., 12.],\n        [ 3.,  3.],\n        [ 5.,  5.],\n        [16., 16.]]),\n array([1, 2, 2, 1, 2, 1, 1, 2, 2, 2, 2, 1], dtype=int64),\n array([1, 2, 1, 1, 2], dtype=int64)]"
     },
     "execution_count": 5,
     "metadata": {},
     "output_type": "execute_result"
    }
   ],
   "source": [
    "x=xigua30num[['密度','含糖率']].values\n",
    "y=xigua30num[['好瓜']].values.flatten()\n",
    "xy = sklearn.model_selection.train_test_split(x, y)\n",
    "xy"
   ],
   "metadata": {
    "collapsed": false,
    "pycharm": {
     "name": "#%%\n"
    }
   }
  },
  {
   "cell_type": "code",
   "execution_count": 8,
   "outputs": [
    {
     "name": "stdout",
     "output_type": "stream",
     "text": [
      "1.0 1.0\n"
     ]
    }
   ],
   "source": [
    "model = neural_network.MLPClassifier(max_iter=10000)\n",
    "model.fit(xy[0],xy[2])\n",
    "print(model.score(xy[0],xy[2]),model.score(xy[1],xy[3]))"
   ],
   "metadata": {
    "collapsed": false,
    "pycharm": {
     "name": "#%%\n"
    }
   }
  },
  {
   "cell_type": "code",
   "execution_count": 9,
   "outputs": [
    {
     "data": {
      "text/plain": "[array([[3.5480e-02, 8.0000e+01, 3.6400e+00, ..., 1.6400e+01, 3.9518e+02,\n         9.2500e+00],\n        [1.7134e-01, 0.0000e+00, 1.0010e+01, ..., 1.7800e+01, 3.4491e+02,\n         1.5760e+01],\n        [5.3700e-01, 0.0000e+00, 6.2000e+00, ..., 1.7400e+01, 3.7835e+02,\n         1.1650e+01],\n        ...,\n        [8.1990e-02, 0.0000e+00, 1.3920e+01, ..., 1.6000e+01, 3.9690e+02,\n         1.0400e+01],\n        [3.7578e-01, 0.0000e+00, 1.0590e+01, ..., 1.8600e+01, 3.9524e+02,\n         2.3980e+01],\n        [1.0000e-01, 3.4000e+01, 6.0900e+00, ..., 1.6100e+01, 3.9043e+02,\n         4.8600e+00]]),\n array([[1.95100e-02, 1.75000e+01, 1.38000e+00, ..., 1.86000e+01,\n         3.93240e+02, 8.05000e+00],\n        [1.48660e-01, 0.00000e+00, 8.56000e+00, ..., 2.09000e+01,\n         3.94760e+02, 9.42000e+00],\n        [2.50461e+01, 0.00000e+00, 1.81000e+01, ..., 2.02000e+01,\n         3.96900e+02, 2.67700e+01],\n        ...,\n        [1.39600e-01, 0.00000e+00, 8.56000e+00, ..., 2.09000e+01,\n         3.92690e+02, 1.23300e+01],\n        [3.68940e-01, 2.20000e+01, 5.86000e+00, ..., 1.91000e+01,\n         3.96900e+02, 3.54000e+00],\n        [1.59360e-01, 0.00000e+00, 6.91000e+00, ..., 1.79000e+01,\n         3.94460e+02, 7.44000e+00]]),\n array([20.9, 18.3, 24.3, 20.5, 22.3, 10.9, 10.5, 21.9, 13.8, 15.6, 33.4,\n        17.2, 31. , 20.4, 15.4, 28.4, 20.1, 24.8, 29. , 22.6, 23.8, 23.2,\n         8.8, 19.8, 20.6, 33.2, 18.6,  7.5, 30.7, 26.5, 22.4, 10.2, 13.1,\n        14. , 34.6, 18.9, 12.6, 16.1, 20. , 22.5, 21. , 25. , 18.5, 29. ,\n        24.5, 21.8, 17.2, 22.8, 10.2,  8.8, 23.7, 21.1, 21.2, 21.7, 21.8,\n        20.9, 31.5, 25. , 19.4, 31.2, 18.5, 14.3, 24.5, 13.3, 20.3, 26.7,\n        15.2, 20.2, 25.3, 19. , 23.3, 29.8, 27.9, 13.6, 29.8, 12.7, 23.6,\n        23.8, 25. ,  8.3, 22.2, 11.8, 23.8, 23.2, 15.6, 15.6, 15. , 35.2,\n        23. , 29.6, 24.4, 29.1, 22.9,  9.6, 50. , 13.9, 14.5, 19.1, 16.3,\n        30.1, 27.5, 17.5, 43.1, 12.8, 20.6, 50. , 19.1, 42.3, 21.4, 28.4,\n        14.5, 17.5, 19.8, 28. , 11.8, 18.9, 41.3, 31.1, 48.5, 24.8, 24.5,\n        21.9, 10.9, 25. , 21.4, 39.8, 20.8, 17.8, 37.2, 20.3, 17.7, 11.3,\n        14.9, 25.2, 23.3, 17.8, 26.4, 31.6, 14.1, 26.4, 22.8, 21.1, 28.7,\n        21.4, 25. , 20.6, 25. , 21.7, 16.2, 19.5, 33.8, 19.6, 34.9, 19.5,\n        29.9, 18.7, 17.1, 18.5, 22.9,  8.5, 14.4, 13.2,  7. , 20. ,  7. ,\n         7.2, 50. , 28.7, 23.5, 41.7, 21.9, 15.1, 15.2, 18.9, 14.6, 19.4,\n        25. , 37.9, 24.7, 22.2, 20.4, 25. , 21.7, 28.6, 30.8, 13.4, 18.2,\n         7.2,  8.4, 31.5, 35.4,  9.5,  9.7, 21.7, 24.7, 43.8, 19.9, 10.2,\n        13.8, 37. , 50. , 50. , 18.4, 19.8,  8.4, 22.7, 20.6, 15.6, 19. ,\n        23.1, 19.4, 22.6, 22. , 15.7, 16. , 24.4, 33.2, 23.1, 21.4, 16.5,\n        24.4, 14.9, 19.2, 19.4, 32.4, 37.3, 22.4, 34.7, 17.4, 50. , 23.6,\n        27.9, 21.6, 20. , 16.7, 20.3, 22.2, 19.2, 16.1, 11.7, 19.9, 19.9,\n        20.1, 23.1, 17.4, 21.5, 23.8, 17.4, 16.6, 16.4, 13.4, 24.1, 20.1,\n        30.1, 13.4, 21.6, 18.5, 19.9, 16.8, 24.4, 19.3, 33.3, 33.1, 13.3,\n        50. , 17.2,  7.2, 18.2, 20.3, 44. , 19.5, 18.7, 32.5, 22.2, 10.5,\n        19.6, 20.7, 24. , 22.1, 17.5, 19.3, 24.8, 36.2, 32.2, 15. , 13.5,\n         6.3, 29.4, 20.6, 17.6, 16.6, 23.7, 11.5, 20.1, 18.1, 23.9, 27.5,\n        23.2, 22.6, 26.6, 20.2, 18.3, 11.9, 11. , 22.5, 23. ,  8.1, 19.3,\n        26.6, 23.1, 19.3, 23.9, 28.7, 26.2, 23.3, 18.7, 30.3, 20. , 21.4,\n        21.2, 20.7, 23.9, 23.9, 17.9, 14.5, 12.7, 17.8, 23.7, 18.2, 20.4,\n        50. , 13. , 12.5, 32. , 36. , 33.4, 23.7, 17.1, 23.1, 18. , 17.8,\n        31.7, 50. , 20.8, 28.5, 23.9, 20. , 24.8, 22. , 19.7, 14.1, 24.3,\n        12.3, 13.5, 19.5, 24.6, 16.7, 50. , 22. , 18.4, 13.8, 46. , 10.4,\n        25.1, 24.3, 19.1, 12.7, 17. , 48.3, 35.1, 24.6, 15.6, 15.3, 50. ,\n        50. , 23.4, 21.7, 19.3, 33.1]),\n array([33. , 27.5,  5.6, 21.2, 14.9, 22.3, 18.8, 14.6, 19.4, 32. , 13.8,\n        21.7, 22.6, 18.4, 20.5, 22.2, 10.8, 22.5, 13.8,  5. , 32.9, 18.6,\n        16.8, 27.1, 22.9, 19.6, 22.7, 28.1, 26.6, 18.8, 18.9, 14.8, 19.6,\n        17.1, 22.6, 27.5, 22.8, 21. ,  7.4, 10.4,  8.5, 21. , 45.4, 28.2,\n        14.2, 22. , 24.1, 43.5, 15.2, 22. , 20.8, 36.1, 27. , 23.4, 50. ,\n        31.6,  5. , 32.7, 30.1, 23. , 34.9, 14.1, 22.8, 36.4,  8.3, 22. ,\n        36.5, 16.1, 50. , 44.8, 13.1, 23.1, 12. , 21.5, 24.2, 13.1, 50. ,\n        20.6, 17.3, 13.3, 37.6, 48.8, 24.1, 14.3, 36.2, 11.9, 27.1, 29.6,\n        20.4, 21.2, 13.9, 13.6, 22. , 19.7, 15.4, 46.7, 11.7, 22.9, 30.5,\n        23.3, 19.4, 23. , 21.7, 15. , 13.4, 50. , 12.1, 13.1, 24. , 16.2,\n         8.7, 29.1, 19.1, 16.5, 17.8, 20.5, 34.9, 23.1, 14.4, 38.7, 21.2,\n        23.2, 19.6, 35.4, 20.1, 42.8, 24.7])]"
     },
     "execution_count": 9,
     "metadata": {},
     "output_type": "execute_result"
    }
   ],
   "source": [
    "import sklearn.datasets as datasets\n",
    "boston = datasets.load_boston()\n",
    "xy = sklearn.model_selection.train_test_split(boston.data, boston.target,random_state=1234)\n",
    "xy"
   ],
   "metadata": {
    "collapsed": false,
    "pycharm": {
     "name": "#%%\n"
    }
   }
  },
  {
   "cell_type": "code",
   "execution_count": 18,
   "outputs": [
    {
     "name": "stdout",
     "output_type": "stream",
     "text": [
      "0.8346174684121372 0.7986452017828221\n"
     ]
    }
   ],
   "source": [
    "model = neural_network.MLPRegressor(max_iter=1000000,\n",
    "                                    solver='adam',\n",
    "                                    activation='tanh',\n",
    "                                    hidden_layer_sizes=(100,),\n",
    "                                    random_state=1234)\n",
    "model.fit(xy[0],xy[2])\n",
    "print(model.score(xy[0],xy[2]),model.score(xy[1],xy[3]))"
   ],
   "metadata": {
    "collapsed": false,
    "pycharm": {
     "name": "#%%\n"
    }
   }
  }
 ],
 "metadata": {
  "kernelspec": {
   "display_name": "Python 3",
   "language": "python",
   "name": "python3"
  },
  "language_info": {
   "codemirror_mode": {
    "name": "ipython",
    "version": 2
   },
   "file_extension": ".py",
   "mimetype": "text/x-python",
   "name": "python",
   "nbconvert_exporter": "python",
   "pygments_lexer": "ipython2",
   "version": "2.7.6"
  }
 },
 "nbformat": 4,
 "nbformat_minor": 0
}