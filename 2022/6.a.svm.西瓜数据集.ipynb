{
 "cells": [
  {
   "cell_type": "code",
   "execution_count": null,
   "metadata": {
    "collapsed": true
   },
   "outputs": [],
   "source": [
    "import matplotlib.pyplot as plt\n",
    "import numpy as np\n",
    "import pandas as pd\n",
    "import sklearn\n",
    "from sklearn import svm\n",
    "svm.__all__"
   ]
  },
  {
   "cell_type": "code",
   "execution_count": null,
   "outputs": [],
   "source": [
    "# 准备数据\n",
    "xigua = pd.read_csv(\"../data/xigua3.0.csv\", index_col=0)\n",
    "xigua_2_data = xigua[['密度', '含糖率']]\n",
    "xigua_2_target = xigua[['好瓜']].replace({'是': 1, '否': -1})\n",
    "scale = 100\n",
    "x = np.linspace(0, 1, scale + 1)\n",
    "y = np.linspace(0, 1, scale + 1)\n",
    "x, y = np.meshgrid(x, y)\n",
    "disp_input = np.vstack((x.flatten(), y.flatten())).T\n",
    "xigua_2_data, xigua_2_target"
   ],
   "metadata": {
    "collapsed": false
   }
  },
  {
   "cell_type": "code",
   "execution_count": null,
   "outputs": [],
   "source": [
    "# 使用线性模型，画出分类面\n",
    "from sklearn.linear_model import LogisticRegression\n",
    "model = LogisticRegression(random_state=234, solver='liblinear', max_iter=10000, C=100)\n",
    "model.fit(xigua_2_data.values, xigua_2_target.values.flatten())\n",
    "print(model.score(xigua_2_data.values, xigua_2_target.values.flatten()))\n",
    "disp_predict = model.predict(disp_input)\n",
    "\n",
    "plt.rcParams['figure.dpi'] = 150\n",
    "plt.scatter(disp_input[:, 0], disp_input[:, 1], c=disp_predict, cmap='pink', alpha=0.5)\n",
    "plt.scatter(xigua_2_data[['密度']], xigua_2_data[['含糖率']], c=xigua_2_target.values.flatten(), cmap='cool')\n",
    "plt.show()\n"
   ],
   "metadata": {
    "collapsed": false
   }
  },
  {
   "cell_type": "code",
   "execution_count": null,
   "outputs": [],
   "source": [
    "# 使用svm，画出分类面\n",
    "model = svm.SVC(C=0.5)\n",
    "model.fit(xigua_2_data.values, xigua_2_target.values.flatten())\n",
    "print(model.score(xigua_2_data.values, xigua_2_target.values.flatten()))\n",
    "disp_predict = model.predict(disp_input)\n",
    "\n",
    "plt.rcParams['figure.dpi'] = 300\n",
    "plt.scatter(disp_input[:, 0], disp_input[:, 1], c=disp_predict, cmap='pink', alpha=0.5)\n",
    "plt.scatter(xigua_2_data[['密度']], xigua_2_data[['含糖率']], c=xigua_2_target.values.flatten(), cmap='cool')\n",
    "plt.show()\n"
   ],
   "metadata": {
    "collapsed": false
   }
  }
 ],
 "metadata": {
  "kernelspec": {
   "display_name": "Python 3",
   "language": "python",
   "name": "python3"
  },
  "language_info": {
   "codemirror_mode": {
    "name": "ipython",
    "version": 2
   },
   "file_extension": ".py",
   "mimetype": "text/x-python",
   "name": "python",
   "nbconvert_exporter": "python",
   "pygments_lexer": "ipython2",
   "version": "2.7.6"
  }
 },
 "nbformat": 4,
 "nbformat_minor": 0
}
